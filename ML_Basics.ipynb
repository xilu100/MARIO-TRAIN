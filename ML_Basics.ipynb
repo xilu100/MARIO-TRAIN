{
 "cells": [
  {
   "cell_type": "markdown",
   "id": "4affbca7",
   "metadata": {},
   "source": [
    "# Machine Learning Basics"
   ]
  },
  {
   "cell_type": "markdown",
   "id": "15d0329f",
   "metadata": {},
   "source": [
    "## 1. Supervised Learning"
   ]
  },
  {
   "cell_type": "markdown",
   "id": "9eda7843",
   "metadata": {},
   "source": [
    "### 1.1 Regression"
   ]
  },
  {
   "cell_type": "markdown",
   "id": "6f29bf44",
   "metadata": {},
   "source": [
    "#### 1.1.1 Linear Regression"
   ]
  },
  {
   "cell_type": "markdown",
   "id": "955566ba",
   "metadata": {},
   "source": [
    "#### 1.1.2 Ridge / Lasso Regression"
   ]
  },
  {
   "cell_type": "markdown",
   "id": "cfccbdc4",
   "metadata": {},
   "source": [
    "#### 1.1.3 Decision Tree Regression"
   ]
  },
  {
   "cell_type": "markdown",
   "id": "2d06f436",
   "metadata": {},
   "source": [
    "### 1.2 Classification"
   ]
  },
  {
   "cell_type": "markdown",
   "id": "49af8ff9",
   "metadata": {},
   "source": [
    "#### 1.2.1 Logistic Regression"
   ]
  },
  {
   "cell_type": "markdown",
   "id": "aa4129da",
   "metadata": {},
   "source": [
    "#### 1.2.2 k-Nearest Neighbors (k-NN)"
   ]
  },
  {
   "cell_type": "markdown",
   "id": "512dbb94",
   "metadata": {},
   "source": [
    "#### 1.2.3 Support Vector Machine (SVM)"
   ]
  },
  {
   "cell_type": "markdown",
   "id": "3441b96b",
   "metadata": {},
   "source": [
    "#### 1.2.4 Decision Tree / Random Forest / Gradient Boosting"
   ]
  },
  {
   "cell_type": "markdown",
   "id": "920c1ff8",
   "metadata": {},
   "source": [
    "#### 1.2.5 Neural Networks ?"
   ]
  },
  {
   "cell_type": "markdown",
   "id": "0193db6d",
   "metadata": {},
   "source": [
    "## 2. Unsupervised Learning"
   ]
  },
  {
   "cell_type": "markdown",
   "id": "b16fd037",
   "metadata": {},
   "source": [
    "### 2.1 Clustering"
   ]
  },
  {
   "cell_type": "markdown",
   "id": "08ab4b1d",
   "metadata": {},
   "source": [
    "#### 2.1.1 k-Means"
   ]
  },
  {
   "cell_type": "markdown",
   "id": "dfea58d4",
   "metadata": {},
   "source": [
    "#### 2.1.2 Hierarchical Clustering"
   ]
  },
  {
   "cell_type": "markdown",
   "id": "9f0fe73f",
   "metadata": {},
   "source": [
    "#### 2.1.3 DBSCAN"
   ]
  },
  {
   "cell_type": "markdown",
   "id": "bc2d3447",
   "metadata": {},
   "source": [
    "### 2.2 Dimensionality Reduction"
   ]
  },
  {
   "cell_type": "markdown",
   "id": "93d7f845",
   "metadata": {},
   "source": [
    "#### 2.2.1 Principal Component Analysis (PCA)"
   ]
  },
  {
   "cell_type": "markdown",
   "id": "c49d4364",
   "metadata": {},
   "source": [
    "#### 2.2.2 t-SNE / UMAP"
   ]
  },
  {
   "cell_type": "markdown",
   "id": "e9cf45b8",
   "metadata": {},
   "source": [
    "#### 2.2.3 Autoencoders"
   ]
  },
  {
   "cell_type": "markdown",
   "id": "48cea1a7",
   "metadata": {},
   "source": [
    "## 3. Semi-supervised & Self-supervised Learning"
   ]
  },
  {
   "cell_type": "markdown",
   "id": "28a7604a",
   "metadata": {},
   "source": [
    "### 3.1 Semi-supervised"
   ]
  },
  {
   "cell_type": "markdown",
   "id": "8dcb8b8f",
   "metadata": {},
   "source": [
    "#### 3.1.1 Label Propagation"
   ]
  },
  {
   "cell_type": "markdown",
   "id": "0c7fdd69",
   "metadata": {},
   "source": [
    "#### 3.1.2 Semi-supervised SVM"
   ]
  },
  {
   "cell_type": "markdown",
   "id": "f4698374",
   "metadata": {},
   "source": [
    "### 3.2 Self-supervised"
   ]
  },
  {
   "cell_type": "markdown",
   "id": "74b1de5f",
   "metadata": {},
   "source": [
    "#### 3.2.1 Contrastive Learning"
   ]
  },
  {
   "cell_type": "markdown",
   "id": "2ed1dfe0",
   "metadata": {},
   "source": [
    "#### 3.2.2 Masked Autoencoder (MAE)"
   ]
  },
  {
   "cell_type": "markdown",
   "id": "e5a39ef7",
   "metadata": {},
   "source": [
    "#### 3.2.3 GPT / BERT (Language Model Pretraining)"
   ]
  },
  {
   "cell_type": "markdown",
   "id": "bb4ea676",
   "metadata": {},
   "source": [
    "## 4. Reinforcement Learning"
   ]
  },
  {
   "cell_type": "markdown",
   "id": "688acdad",
   "metadata": {},
   "source": [
    "### 4.1 Q-Learning"
   ]
  },
  {
   "cell_type": "markdown",
   "id": "4fbd8578",
   "metadata": {},
   "source": [
    "### 4.2 Deep Q-Network (DQN)"
   ]
  },
  {
   "cell_type": "markdown",
   "id": "596c8b11",
   "metadata": {},
   "source": [
    "### 4.3 Policy Gradient Methods"
   ]
  },
  {
   "cell_type": "markdown",
   "id": "12e708ab",
   "metadata": {},
   "source": [
    "### 4.4 Actor-Critic"
   ]
  },
  {
   "cell_type": "markdown",
   "id": "0e4ce2d5",
   "metadata": {},
   "source": [
    "### 4.5 Proximal Policy Optimization (PPO)"
   ]
  }
 ],
 "metadata": {
  "kernelspec": {
   "display_name": "base",
   "language": "python",
   "name": "python3"
  },
  "language_info": {
   "codemirror_mode": {
    "name": "ipython",
    "version": 2
   },
   "file_extension": ".py",
   "mimetype": "text/x-python",
   "name": "python",
   "nbconvert_exporter": "python",
   "pygments_lexer": "ipython2",
   "version": "3.13.5"
  }
 },
 "nbformat": 4,
 "nbformat_minor": 5
}
